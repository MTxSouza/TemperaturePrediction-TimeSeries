{
 "cells": [
  {
   "cell_type": "markdown",
   "id": "2fd3c434-9bd3-408e-ba04-a7fae2384bd9",
   "metadata": {},
   "source": [
    "# **Imports**"
   ]
  },
  {
   "cell_type": "code",
   "execution_count": 1,
   "id": "fc7daad3-b8a5-4e25-b2bd-b4f9ce0eac02",
   "metadata": {},
   "outputs": [],
   "source": [
    "# data handle\n",
    "from pandas._libs.tslibs.timestamps import Timestamp\n",
    "\n",
    "import pandas as pd\n",
    "import numpy as np\n",
    "\n",
    "# graphs\n",
    "import matplotlib.pyplot as plt\n",
    "import seaborn as sns\n",
    "\n",
    "# system\n",
    "import os"
   ]
  },
  {
   "cell_type": "code",
   "execution_count": 2,
   "id": "ad801f62-b6e6-4a55-875c-ac15f7a587f9",
   "metadata": {},
   "outputs": [],
   "source": [
    "# setting up evironment configs\n",
    "sns.set()\n",
    "pd.set_option('display.max_columns', None)\n",
    "%matplotlib inline"
   ]
  },
  {
   "cell_type": "markdown",
   "id": "e12dfe6c-7b82-4c2d-9792-8780a25d292b",
   "metadata": {
    "tags": []
   },
   "source": [
    "---\n",
    "<h1>Matheus' Notes</h1>\n",
    "<ul>\n",
    "    <li>Target column: AverageTemperature</li>\n",
    "    <li>The target column is in celsius</li>\n",
    "    <li>I will only considerer Brazil data for this analysis</li>\n",
    "    <li>The independent values will be the year and month only</li>\n",
    "    <ul>\n",
    "        <li>I will split the date into year and month for this reason</li>\n",
    "    </ul>\n",
    "    <li>The date comes since 1850 until 2013, totalizing 1957 data to be used</li>\n",
    "</ul>\n",
    "\n",
    "---"
   ]
  },
  {
   "cell_type": "markdown",
   "id": "acfe328c-1bf1-4729-97e5-b91ce0028a38",
   "metadata": {},
   "source": [
    "# **Data preparation**"
   ]
  },
  {
   "cell_type": "code",
   "execution_count": 3,
   "id": "c7e22068-5f9c-4353-b98f-873d5a1b96c1",
   "metadata": {},
   "outputs": [],
   "source": [
    "# loading dataset\n",
    "df = pd.read_csv('../datasets/GlobalLandTemperaturesByCountry.csv')"
   ]
  },
  {
   "cell_type": "code",
   "execution_count": 4,
   "id": "8e245737-be30-4ced-b62a-9a43b8a4ca63",
   "metadata": {},
   "outputs": [
    {
     "data": {
      "text/html": [
       "<div>\n",
       "<style scoped>\n",
       "    .dataframe tbody tr th:only-of-type {\n",
       "        vertical-align: middle;\n",
       "    }\n",
       "\n",
       "    .dataframe tbody tr th {\n",
       "        vertical-align: top;\n",
       "    }\n",
       "\n",
       "    .dataframe thead th {\n",
       "        text-align: right;\n",
       "    }\n",
       "</style>\n",
       "<table border=\"1\" class=\"dataframe\">\n",
       "  <thead>\n",
       "    <tr style=\"text-align: right;\">\n",
       "      <th></th>\n",
       "      <th>dt</th>\n",
       "      <th>AverageTemperature</th>\n",
       "      <th>AverageTemperatureUncertainty</th>\n",
       "      <th>Country</th>\n",
       "    </tr>\n",
       "  </thead>\n",
       "  <tbody>\n",
       "    <tr>\n",
       "      <th>0</th>\n",
       "      <td>1743-11-01</td>\n",
       "      <td>4.384</td>\n",
       "      <td>2.294</td>\n",
       "      <td>Åland</td>\n",
       "    </tr>\n",
       "    <tr>\n",
       "      <th>1</th>\n",
       "      <td>1743-12-01</td>\n",
       "      <td>NaN</td>\n",
       "      <td>NaN</td>\n",
       "      <td>Åland</td>\n",
       "    </tr>\n",
       "    <tr>\n",
       "      <th>2</th>\n",
       "      <td>1744-01-01</td>\n",
       "      <td>NaN</td>\n",
       "      <td>NaN</td>\n",
       "      <td>Åland</td>\n",
       "    </tr>\n",
       "    <tr>\n",
       "      <th>3</th>\n",
       "      <td>1744-02-01</td>\n",
       "      <td>NaN</td>\n",
       "      <td>NaN</td>\n",
       "      <td>Åland</td>\n",
       "    </tr>\n",
       "    <tr>\n",
       "      <th>4</th>\n",
       "      <td>1744-03-01</td>\n",
       "      <td>NaN</td>\n",
       "      <td>NaN</td>\n",
       "      <td>Åland</td>\n",
       "    </tr>\n",
       "  </tbody>\n",
       "</table>\n",
       "</div>"
      ],
      "text/plain": [
       "           dt  AverageTemperature  AverageTemperatureUncertainty Country\n",
       "0  1743-11-01               4.384                          2.294   Åland\n",
       "1  1743-12-01                 NaN                            NaN   Åland\n",
       "2  1744-01-01                 NaN                            NaN   Åland\n",
       "3  1744-02-01                 NaN                            NaN   Åland\n",
       "4  1744-03-01                 NaN                            NaN   Åland"
      ]
     },
     "execution_count": 4,
     "metadata": {},
     "output_type": "execute_result"
    }
   ],
   "source": [
    "df.head()"
   ]
  },
  {
   "cell_type": "code",
   "execution_count": 5,
   "id": "5a987959-f2e7-4503-91ec-f2ad5987cd05",
   "metadata": {},
   "outputs": [
    {
     "name": "stdout",
     "output_type": "stream",
     "text": [
      "<class 'pandas.core.frame.DataFrame'>\n",
      "RangeIndex: 577462 entries, 0 to 577461\n",
      "Data columns (total 4 columns):\n",
      " #   Column                         Non-Null Count   Dtype  \n",
      "---  ------                         --------------   -----  \n",
      " 0   dt                             577462 non-null  object \n",
      " 1   AverageTemperature             544811 non-null  float64\n",
      " 2   AverageTemperatureUncertainty  545550 non-null  float64\n",
      " 3   Country                        577462 non-null  object \n",
      "dtypes: float64(2), object(2)\n",
      "memory usage: 17.6+ MB\n"
     ]
    }
   ],
   "source": [
    "df.info()"
   ]
  },
  {
   "cell_type": "code",
   "execution_count": 6,
   "id": "da8364ed-2fd6-43c3-96bc-dff4370d44dc",
   "metadata": {},
   "outputs": [
    {
     "data": {
      "text/html": [
       "<div>\n",
       "<style scoped>\n",
       "    .dataframe tbody tr th:only-of-type {\n",
       "        vertical-align: middle;\n",
       "    }\n",
       "\n",
       "    .dataframe tbody tr th {\n",
       "        vertical-align: top;\n",
       "    }\n",
       "\n",
       "    .dataframe thead th {\n",
       "        text-align: right;\n",
       "    }\n",
       "</style>\n",
       "<table border=\"1\" class=\"dataframe\">\n",
       "  <thead>\n",
       "    <tr style=\"text-align: right;\">\n",
       "      <th></th>\n",
       "      <th>AverageTemperature</th>\n",
       "      <th>AverageTemperatureUncertainty</th>\n",
       "    </tr>\n",
       "  </thead>\n",
       "  <tbody>\n",
       "    <tr>\n",
       "      <th>count</th>\n",
       "      <td>544811.000000</td>\n",
       "      <td>545550.000000</td>\n",
       "    </tr>\n",
       "    <tr>\n",
       "      <th>mean</th>\n",
       "      <td>17.193354</td>\n",
       "      <td>1.019057</td>\n",
       "    </tr>\n",
       "    <tr>\n",
       "      <th>std</th>\n",
       "      <td>10.953966</td>\n",
       "      <td>1.201930</td>\n",
       "    </tr>\n",
       "    <tr>\n",
       "      <th>min</th>\n",
       "      <td>-37.658000</td>\n",
       "      <td>0.052000</td>\n",
       "    </tr>\n",
       "    <tr>\n",
       "      <th>25%</th>\n",
       "      <td>10.025000</td>\n",
       "      <td>0.323000</td>\n",
       "    </tr>\n",
       "    <tr>\n",
       "      <th>50%</th>\n",
       "      <td>20.901000</td>\n",
       "      <td>0.571000</td>\n",
       "    </tr>\n",
       "    <tr>\n",
       "      <th>75%</th>\n",
       "      <td>25.814000</td>\n",
       "      <td>1.206000</td>\n",
       "    </tr>\n",
       "    <tr>\n",
       "      <th>max</th>\n",
       "      <td>38.842000</td>\n",
       "      <td>15.003000</td>\n",
       "    </tr>\n",
       "  </tbody>\n",
       "</table>\n",
       "</div>"
      ],
      "text/plain": [
       "       AverageTemperature  AverageTemperatureUncertainty\n",
       "count       544811.000000                  545550.000000\n",
       "mean            17.193354                       1.019057\n",
       "std             10.953966                       1.201930\n",
       "min            -37.658000                       0.052000\n",
       "25%             10.025000                       0.323000\n",
       "50%             20.901000                       0.571000\n",
       "75%             25.814000                       1.206000\n",
       "max             38.842000                      15.003000"
      ]
     },
     "execution_count": 6,
     "metadata": {},
     "output_type": "execute_result"
    }
   ],
   "source": [
    "df.describe()"
   ]
  },
  {
   "cell_type": "code",
   "execution_count": 7,
   "id": "e00f76d6-97f7-4eaf-bd06-1b068175d5bb",
   "metadata": {},
   "outputs": [
    {
     "data": {
      "text/plain": [
       "str"
      ]
     },
     "execution_count": 7,
     "metadata": {},
     "output_type": "execute_result"
    }
   ],
   "source": [
    "# verifying if 'dt' columns is a string or\n",
    "# if it is in date format\n",
    "type(df.iloc[0,0])"
   ]
  },
  {
   "cell_type": "code",
   "execution_count": 8,
   "id": "03f07aec-fa77-4e9b-8aab-6f21832ac34a",
   "metadata": {},
   "outputs": [],
   "source": [
    "# converting all content in 'dt' column\n",
    "# to datetime format\n",
    "df.dt = pd.to_datetime(df.dt)"
   ]
  },
  {
   "cell_type": "code",
   "execution_count": 9,
   "id": "46de8330-60f0-444d-a43c-511dd3d85aad",
   "metadata": {},
   "outputs": [
    {
     "data": {
      "text/plain": [
       "pandas._libs.tslibs.timestamps.Timestamp"
      ]
     },
     "execution_count": 9,
     "metadata": {},
     "output_type": "execute_result"
    }
   ],
   "source": [
    "# validating this transformation\n",
    "type(df.iloc[0,0])"
   ]
  },
  {
   "cell_type": "code",
   "execution_count": 10,
   "id": "348c75de-5235-4b47-90ae-a6cb1c40f69d",
   "metadata": {},
   "outputs": [],
   "source": [
    "# selecting only Brazil\n",
    "df_brazil = df[df.Country == 'Brazil']"
   ]
  },
  {
   "cell_type": "code",
   "execution_count": 11,
   "id": "7305702f-701f-417b-b004-93e89f8b95c4",
   "metadata": {},
   "outputs": [
    {
     "data": {
      "text/plain": [
       "(2181, 4)"
      ]
     },
     "execution_count": 11,
     "metadata": {},
     "output_type": "execute_result"
    }
   ],
   "source": [
    "# checking the shape of new dataset\n",
    "df_brazil.shape"
   ]
  },
  {
   "cell_type": "code",
   "execution_count": 12,
   "id": "0a6054c5-5f2f-4c02-9d71-a7baff9f8f09",
   "metadata": {},
   "outputs": [
    {
     "data": {
      "text/plain": [
       "1832-01-01    1\n",
       "1953-06-01    1\n",
       "1952-12-01    1\n",
       "1953-01-01    1\n",
       "1953-02-01    1\n",
       "             ..\n",
       "1892-02-01    1\n",
       "1892-01-01    1\n",
       "1891-12-01    1\n",
       "1891-11-01    1\n",
       "2013-09-01    1\n",
       "Name: dt, Length: 2181, dtype: int64"
      ]
     },
     "execution_count": 12,
     "metadata": {},
     "output_type": "execute_result"
    }
   ],
   "source": [
    "# verfying unique dates\n",
    "df_brazil.dt.value_counts()"
   ]
  },
  {
   "cell_type": "code",
   "execution_count": 13,
   "id": "8c8ddcb6-70cc-4727-8696-417fff788073",
   "metadata": {},
   "outputs": [
    {
     "name": "stderr",
     "output_type": "stream",
     "text": [
      "C:\\Users\\Matheus\\AppData\\Local\\Temp\\ipykernel_14240\\2596131912.py:2: SettingWithCopyWarning: \n",
      "A value is trying to be set on a copy of a slice from a DataFrame\n",
      "\n",
      "See the caveats in the documentation: https://pandas.pydata.org/pandas-docs/stable/user_guide/indexing.html#returning-a-view-versus-a-copy\n",
      "  df_brazil.sort_values(by='dt', inplace=True)\n"
     ]
    }
   ],
   "source": [
    "# order dataset by dates\n",
    "df_brazil.sort_values(by='dt', inplace=True)"
   ]
  },
  {
   "cell_type": "code",
   "execution_count": 14,
   "id": "98752a84-2eb0-47fd-aec3-269c83248614",
   "metadata": {},
   "outputs": [
    {
     "data": {
      "text/html": [
       "<div>\n",
       "<style scoped>\n",
       "    .dataframe tbody tr th:only-of-type {\n",
       "        vertical-align: middle;\n",
       "    }\n",
       "\n",
       "    .dataframe tbody tr th {\n",
       "        vertical-align: top;\n",
       "    }\n",
       "\n",
       "    .dataframe thead th {\n",
       "        text-align: right;\n",
       "    }\n",
       "</style>\n",
       "<table border=\"1\" class=\"dataframe\">\n",
       "  <thead>\n",
       "    <tr style=\"text-align: right;\">\n",
       "      <th></th>\n",
       "      <th>dt</th>\n",
       "      <th>AverageTemperature</th>\n",
       "      <th>AverageTemperatureUncertainty</th>\n",
       "      <th>Country</th>\n",
       "    </tr>\n",
       "  </thead>\n",
       "  <tbody>\n",
       "    <tr>\n",
       "      <th>77110</th>\n",
       "      <td>1832-01-01</td>\n",
       "      <td>24.935</td>\n",
       "      <td>1.372</td>\n",
       "      <td>Brazil</td>\n",
       "    </tr>\n",
       "    <tr>\n",
       "      <th>77111</th>\n",
       "      <td>1832-02-01</td>\n",
       "      <td>24.505</td>\n",
       "      <td>1.953</td>\n",
       "      <td>Brazil</td>\n",
       "    </tr>\n",
       "    <tr>\n",
       "      <th>77112</th>\n",
       "      <td>1832-03-01</td>\n",
       "      <td>24.617</td>\n",
       "      <td>1.359</td>\n",
       "      <td>Brazil</td>\n",
       "    </tr>\n",
       "    <tr>\n",
       "      <th>77113</th>\n",
       "      <td>1832-04-01</td>\n",
       "      <td>23.990</td>\n",
       "      <td>2.013</td>\n",
       "      <td>Brazil</td>\n",
       "    </tr>\n",
       "    <tr>\n",
       "      <th>77114</th>\n",
       "      <td>1832-05-01</td>\n",
       "      <td>23.124</td>\n",
       "      <td>1.592</td>\n",
       "      <td>Brazil</td>\n",
       "    </tr>\n",
       "    <tr>\n",
       "      <th>77115</th>\n",
       "      <td>1832-06-01</td>\n",
       "      <td>22.924</td>\n",
       "      <td>1.528</td>\n",
       "      <td>Brazil</td>\n",
       "    </tr>\n",
       "    <tr>\n",
       "      <th>77116</th>\n",
       "      <td>1832-07-01</td>\n",
       "      <td>22.974</td>\n",
       "      <td>1.930</td>\n",
       "      <td>Brazil</td>\n",
       "    </tr>\n",
       "    <tr>\n",
       "      <th>77117</th>\n",
       "      <td>1832-08-01</td>\n",
       "      <td>22.741</td>\n",
       "      <td>1.568</td>\n",
       "      <td>Brazil</td>\n",
       "    </tr>\n",
       "    <tr>\n",
       "      <th>77118</th>\n",
       "      <td>1832-09-01</td>\n",
       "      <td>23.560</td>\n",
       "      <td>1.996</td>\n",
       "      <td>Brazil</td>\n",
       "    </tr>\n",
       "    <tr>\n",
       "      <th>77119</th>\n",
       "      <td>1832-10-01</td>\n",
       "      <td>24.718</td>\n",
       "      <td>1.592</td>\n",
       "      <td>Brazil</td>\n",
       "    </tr>\n",
       "    <tr>\n",
       "      <th>77120</th>\n",
       "      <td>1832-11-01</td>\n",
       "      <td>24.354</td>\n",
       "      <td>0.997</td>\n",
       "      <td>Brazil</td>\n",
       "    </tr>\n",
       "    <tr>\n",
       "      <th>77121</th>\n",
       "      <td>1832-12-01</td>\n",
       "      <td>23.861</td>\n",
       "      <td>2.914</td>\n",
       "      <td>Brazil</td>\n",
       "    </tr>\n",
       "    <tr>\n",
       "      <th>77122</th>\n",
       "      <td>1833-01-01</td>\n",
       "      <td>25.467</td>\n",
       "      <td>2.016</td>\n",
       "      <td>Brazil</td>\n",
       "    </tr>\n",
       "    <tr>\n",
       "      <th>77123</th>\n",
       "      <td>1833-02-01</td>\n",
       "      <td>25.452</td>\n",
       "      <td>1.330</td>\n",
       "      <td>Brazil</td>\n",
       "    </tr>\n",
       "    <tr>\n",
       "      <th>77124</th>\n",
       "      <td>1833-03-01</td>\n",
       "      <td>24.421</td>\n",
       "      <td>1.893</td>\n",
       "      <td>Brazil</td>\n",
       "    </tr>\n",
       "  </tbody>\n",
       "</table>\n",
       "</div>"
      ],
      "text/plain": [
       "              dt  AverageTemperature  AverageTemperatureUncertainty Country\n",
       "77110 1832-01-01              24.935                          1.372  Brazil\n",
       "77111 1832-02-01              24.505                          1.953  Brazil\n",
       "77112 1832-03-01              24.617                          1.359  Brazil\n",
       "77113 1832-04-01              23.990                          2.013  Brazil\n",
       "77114 1832-05-01              23.124                          1.592  Brazil\n",
       "77115 1832-06-01              22.924                          1.528  Brazil\n",
       "77116 1832-07-01              22.974                          1.930  Brazil\n",
       "77117 1832-08-01              22.741                          1.568  Brazil\n",
       "77118 1832-09-01              23.560                          1.996  Brazil\n",
       "77119 1832-10-01              24.718                          1.592  Brazil\n",
       "77120 1832-11-01              24.354                          0.997  Brazil\n",
       "77121 1832-12-01              23.861                          2.914  Brazil\n",
       "77122 1833-01-01              25.467                          2.016  Brazil\n",
       "77123 1833-02-01              25.452                          1.330  Brazil\n",
       "77124 1833-03-01              24.421                          1.893  Brazil"
      ]
     },
     "execution_count": 14,
     "metadata": {},
     "output_type": "execute_result"
    }
   ],
   "source": [
    "df_brazil.head(15)"
   ]
  },
  {
   "cell_type": "code",
   "execution_count": 15,
   "id": "c3751e28-8c19-4b50-b798-cd4ece189b21",
   "metadata": {},
   "outputs": [
    {
     "data": {
      "text/plain": [
       "dt                                0\n",
       "AverageTemperature               17\n",
       "AverageTemperatureUncertainty    17\n",
       "Country                           0\n",
       "dtype: int64"
      ]
     },
     "execution_count": 15,
     "metadata": {},
     "output_type": "execute_result"
    }
   ],
   "source": [
    "# verifying if there are any nan value\n",
    "df_brazil.isna().sum()"
   ]
  },
  {
   "cell_type": "code",
   "execution_count": 16,
   "id": "af0e1474-7370-48b6-ab25-6e6df9684d48",
   "metadata": {},
   "outputs": [
    {
     "data": {
      "text/html": [
       "<div>\n",
       "<style scoped>\n",
       "    .dataframe tbody tr th:only-of-type {\n",
       "        vertical-align: middle;\n",
       "    }\n",
       "\n",
       "    .dataframe tbody tr th {\n",
       "        vertical-align: top;\n",
       "    }\n",
       "\n",
       "    .dataframe thead th {\n",
       "        text-align: right;\n",
       "    }\n",
       "</style>\n",
       "<table border=\"1\" class=\"dataframe\">\n",
       "  <thead>\n",
       "    <tr style=\"text-align: right;\">\n",
       "      <th></th>\n",
       "      <th>dt</th>\n",
       "      <th>AverageTemperature</th>\n",
       "      <th>AverageTemperatureUncertainty</th>\n",
       "      <th>Country</th>\n",
       "    </tr>\n",
       "  </thead>\n",
       "  <tbody>\n",
       "    <tr>\n",
       "      <th>77254</th>\n",
       "      <td>1844-01-01</td>\n",
       "      <td>NaN</td>\n",
       "      <td>NaN</td>\n",
       "      <td>Brazil</td>\n",
       "    </tr>\n",
       "    <tr>\n",
       "      <th>77255</th>\n",
       "      <td>1844-02-01</td>\n",
       "      <td>NaN</td>\n",
       "      <td>NaN</td>\n",
       "      <td>Brazil</td>\n",
       "    </tr>\n",
       "    <tr>\n",
       "      <th>77256</th>\n",
       "      <td>1844-03-01</td>\n",
       "      <td>NaN</td>\n",
       "      <td>NaN</td>\n",
       "      <td>Brazil</td>\n",
       "    </tr>\n",
       "    <tr>\n",
       "      <th>77257</th>\n",
       "      <td>1844-04-01</td>\n",
       "      <td>NaN</td>\n",
       "      <td>NaN</td>\n",
       "      <td>Brazil</td>\n",
       "    </tr>\n",
       "    <tr>\n",
       "      <th>77258</th>\n",
       "      <td>1844-05-01</td>\n",
       "      <td>NaN</td>\n",
       "      <td>NaN</td>\n",
       "      <td>Brazil</td>\n",
       "    </tr>\n",
       "    <tr>\n",
       "      <th>77259</th>\n",
       "      <td>1844-06-01</td>\n",
       "      <td>NaN</td>\n",
       "      <td>NaN</td>\n",
       "      <td>Brazil</td>\n",
       "    </tr>\n",
       "    <tr>\n",
       "      <th>77260</th>\n",
       "      <td>1844-07-01</td>\n",
       "      <td>NaN</td>\n",
       "      <td>NaN</td>\n",
       "      <td>Brazil</td>\n",
       "    </tr>\n",
       "    <tr>\n",
       "      <th>77261</th>\n",
       "      <td>1844-08-01</td>\n",
       "      <td>NaN</td>\n",
       "      <td>NaN</td>\n",
       "      <td>Brazil</td>\n",
       "    </tr>\n",
       "    <tr>\n",
       "      <th>77262</th>\n",
       "      <td>1844-09-01</td>\n",
       "      <td>NaN</td>\n",
       "      <td>NaN</td>\n",
       "      <td>Brazil</td>\n",
       "    </tr>\n",
       "    <tr>\n",
       "      <th>77263</th>\n",
       "      <td>1844-10-01</td>\n",
       "      <td>NaN</td>\n",
       "      <td>NaN</td>\n",
       "      <td>Brazil</td>\n",
       "    </tr>\n",
       "    <tr>\n",
       "      <th>77264</th>\n",
       "      <td>1844-11-01</td>\n",
       "      <td>NaN</td>\n",
       "      <td>NaN</td>\n",
       "      <td>Brazil</td>\n",
       "    </tr>\n",
       "    <tr>\n",
       "      <th>77265</th>\n",
       "      <td>1844-12-01</td>\n",
       "      <td>NaN</td>\n",
       "      <td>NaN</td>\n",
       "      <td>Brazil</td>\n",
       "    </tr>\n",
       "    <tr>\n",
       "      <th>77275</th>\n",
       "      <td>1845-10-01</td>\n",
       "      <td>NaN</td>\n",
       "      <td>NaN</td>\n",
       "      <td>Brazil</td>\n",
       "    </tr>\n",
       "    <tr>\n",
       "      <th>77276</th>\n",
       "      <td>1845-11-01</td>\n",
       "      <td>NaN</td>\n",
       "      <td>NaN</td>\n",
       "      <td>Brazil</td>\n",
       "    </tr>\n",
       "    <tr>\n",
       "      <th>77277</th>\n",
       "      <td>1845-12-01</td>\n",
       "      <td>NaN</td>\n",
       "      <td>NaN</td>\n",
       "      <td>Brazil</td>\n",
       "    </tr>\n",
       "    <tr>\n",
       "      <th>77332</th>\n",
       "      <td>1850-07-01</td>\n",
       "      <td>NaN</td>\n",
       "      <td>NaN</td>\n",
       "      <td>Brazil</td>\n",
       "    </tr>\n",
       "    <tr>\n",
       "      <th>79290</th>\n",
       "      <td>2013-09-01</td>\n",
       "      <td>NaN</td>\n",
       "      <td>NaN</td>\n",
       "      <td>Brazil</td>\n",
       "    </tr>\n",
       "  </tbody>\n",
       "</table>\n",
       "</div>"
      ],
      "text/plain": [
       "              dt  AverageTemperature  AverageTemperatureUncertainty Country\n",
       "77254 1844-01-01                 NaN                            NaN  Brazil\n",
       "77255 1844-02-01                 NaN                            NaN  Brazil\n",
       "77256 1844-03-01                 NaN                            NaN  Brazil\n",
       "77257 1844-04-01                 NaN                            NaN  Brazil\n",
       "77258 1844-05-01                 NaN                            NaN  Brazil\n",
       "77259 1844-06-01                 NaN                            NaN  Brazil\n",
       "77260 1844-07-01                 NaN                            NaN  Brazil\n",
       "77261 1844-08-01                 NaN                            NaN  Brazil\n",
       "77262 1844-09-01                 NaN                            NaN  Brazil\n",
       "77263 1844-10-01                 NaN                            NaN  Brazil\n",
       "77264 1844-11-01                 NaN                            NaN  Brazil\n",
       "77265 1844-12-01                 NaN                            NaN  Brazil\n",
       "77275 1845-10-01                 NaN                            NaN  Brazil\n",
       "77276 1845-11-01                 NaN                            NaN  Brazil\n",
       "77277 1845-12-01                 NaN                            NaN  Brazil\n",
       "77332 1850-07-01                 NaN                            NaN  Brazil\n",
       "79290 2013-09-01                 NaN                            NaN  Brazil"
      ]
     },
     "execution_count": 16,
     "metadata": {},
     "output_type": "execute_result"
    }
   ],
   "source": [
    "df_brazil[df_brazil.AverageTemperature.isna()]"
   ]
  },
  {
   "cell_type": "code",
   "execution_count": 17,
   "id": "ee7e7b4c-e972-4d5a-82ea-f3277ca58a67",
   "metadata": {},
   "outputs": [],
   "source": [
    "# filtering by range of 1850-07-01 and 2013-09-01\n",
    "df_brazil = df_brazil[(df_brazil.dt > Timestamp('1850-07-01')) & (df_brazil.dt < Timestamp('2013-09-01'))]"
   ]
  },
  {
   "cell_type": "code",
   "execution_count": 18,
   "id": "26a9a916-722a-4763-8de6-8ff0604d5d17",
   "metadata": {},
   "outputs": [
    {
     "name": "stdout",
     "output_type": "stream",
     "text": [
      "Dataset validated\n"
     ]
    }
   ],
   "source": [
    "# checking if there are any missing dates\n",
    "first_date = df_brazil.iloc[0,0]\n",
    "for i in range(1,df_brazil.shape[0]):\n",
    "    current_date = df_brazil.iloc[i,0]\n",
    "    count = ((current_date.year - first_date.year) * 12) + current_date.month - first_date.month\n",
    "    if not i == count:\n",
    "        print(f'missing value at index {i}')\n",
    "print('Dataset validated')"
   ]
  },
  {
   "cell_type": "code",
   "execution_count": 19,
   "id": "55591a5c-9197-4993-9b3f-f91e7c1df2e9",
   "metadata": {},
   "outputs": [
    {
     "name": "stderr",
     "output_type": "stream",
     "text": [
      "C:\\Users\\Matheus\\AppData\\Local\\Temp\\ipykernel_14240\\2217410464.py:5: SettingWithCopyWarning: \n",
      "A value is trying to be set on a copy of a slice from a DataFrame.\n",
      "Try using .loc[row_indexer,col_indexer] = value instead\n",
      "\n",
      "See the caveats in the documentation: https://pandas.pydata.org/pandas-docs/stable/user_guide/indexing.html#returning-a-view-versus-a-copy\n",
      "  df_brazil[['year','month']] = list(df_brazil['dt'].map(date_to_year_and_month).values)\n",
      "C:\\Users\\Matheus\\AppData\\Local\\Temp\\ipykernel_14240\\2217410464.py:5: SettingWithCopyWarning: \n",
      "A value is trying to be set on a copy of a slice from a DataFrame.\n",
      "Try using .loc[row_indexer,col_indexer] = value instead\n",
      "\n",
      "See the caveats in the documentation: https://pandas.pydata.org/pandas-docs/stable/user_guide/indexing.html#returning-a-view-versus-a-copy\n",
      "  df_brazil[['year','month']] = list(df_brazil['dt'].map(date_to_year_and_month).values)\n"
     ]
    }
   ],
   "source": [
    "# spliting date into year and month column\n",
    "def date_to_year_and_month(x):\n",
    "    x = str(x).split('-')\n",
    "    return int(x[0]), int(x[1])\n",
    "df_brazil[['year','month']] = list(df_brazil['dt'].map(date_to_year_and_month).values)"
   ]
  },
  {
   "cell_type": "code",
   "execution_count": 20,
   "id": "b47b311d-49f7-430c-8aed-6333991811dc",
   "metadata": {},
   "outputs": [
    {
     "data": {
      "text/html": [
       "<div>\n",
       "<style scoped>\n",
       "    .dataframe tbody tr th:only-of-type {\n",
       "        vertical-align: middle;\n",
       "    }\n",
       "\n",
       "    .dataframe tbody tr th {\n",
       "        vertical-align: top;\n",
       "    }\n",
       "\n",
       "    .dataframe thead th {\n",
       "        text-align: right;\n",
       "    }\n",
       "</style>\n",
       "<table border=\"1\" class=\"dataframe\">\n",
       "  <thead>\n",
       "    <tr style=\"text-align: right;\">\n",
       "      <th></th>\n",
       "      <th>dt</th>\n",
       "      <th>AverageTemperature</th>\n",
       "      <th>AverageTemperatureUncertainty</th>\n",
       "      <th>Country</th>\n",
       "      <th>year</th>\n",
       "      <th>month</th>\n",
       "    </tr>\n",
       "  </thead>\n",
       "  <tbody>\n",
       "    <tr>\n",
       "      <th>77333</th>\n",
       "      <td>1850-08-01</td>\n",
       "      <td>24.176</td>\n",
       "      <td>0.942</td>\n",
       "      <td>Brazil</td>\n",
       "      <td>1850</td>\n",
       "      <td>8</td>\n",
       "    </tr>\n",
       "    <tr>\n",
       "      <th>77334</th>\n",
       "      <td>1850-09-01</td>\n",
       "      <td>24.551</td>\n",
       "      <td>0.960</td>\n",
       "      <td>Brazil</td>\n",
       "      <td>1850</td>\n",
       "      <td>9</td>\n",
       "    </tr>\n",
       "    <tr>\n",
       "      <th>77335</th>\n",
       "      <td>1850-10-01</td>\n",
       "      <td>24.468</td>\n",
       "      <td>1.004</td>\n",
       "      <td>Brazil</td>\n",
       "      <td>1850</td>\n",
       "      <td>10</td>\n",
       "    </tr>\n",
       "    <tr>\n",
       "      <th>77336</th>\n",
       "      <td>1850-11-01</td>\n",
       "      <td>24.604</td>\n",
       "      <td>1.289</td>\n",
       "      <td>Brazil</td>\n",
       "      <td>1850</td>\n",
       "      <td>11</td>\n",
       "    </tr>\n",
       "    <tr>\n",
       "      <th>77337</th>\n",
       "      <td>1850-12-01</td>\n",
       "      <td>24.643</td>\n",
       "      <td>1.018</td>\n",
       "      <td>Brazil</td>\n",
       "      <td>1850</td>\n",
       "      <td>12</td>\n",
       "    </tr>\n",
       "  </tbody>\n",
       "</table>\n",
       "</div>"
      ],
      "text/plain": [
       "              dt  AverageTemperature  AverageTemperatureUncertainty Country  \\\n",
       "77333 1850-08-01              24.176                          0.942  Brazil   \n",
       "77334 1850-09-01              24.551                          0.960  Brazil   \n",
       "77335 1850-10-01              24.468                          1.004  Brazil   \n",
       "77336 1850-11-01              24.604                          1.289  Brazil   \n",
       "77337 1850-12-01              24.643                          1.018  Brazil   \n",
       "\n",
       "       year  month  \n",
       "77333  1850      8  \n",
       "77334  1850      9  \n",
       "77335  1850     10  \n",
       "77336  1850     11  \n",
       "77337  1850     12  "
      ]
     },
     "execution_count": 20,
     "metadata": {},
     "output_type": "execute_result"
    }
   ],
   "source": [
    "df_brazil.head()"
   ]
  },
  {
   "cell_type": "code",
   "execution_count": 21,
   "id": "73ba8a97-bc68-404c-96ed-28dd3885cb50",
   "metadata": {},
   "outputs": [
    {
     "name": "stderr",
     "output_type": "stream",
     "text": [
      "C:\\Users\\Matheus\\AppData\\Local\\Temp\\ipykernel_14240\\2116743083.py:5: FutureWarning: The behavior of `series[i:j]` with an integer-dtype index is deprecated. In a future version, this will be treated as *label-based* indexing, consistent with e.g. `series[i]` lookups. To retain the old behavior, use `series.iloc[i:j]`. To get the future behavior, use `series.loc[i:j]`.\n",
      "  df_brazil.dt[:500],\n",
      "C:\\Users\\Matheus\\AppData\\Local\\Temp\\ipykernel_14240\\2116743083.py:6: FutureWarning: The behavior of `series[i:j]` with an integer-dtype index is deprecated. In a future version, this will be treated as *label-based* indexing, consistent with e.g. `series[i]` lookups. To retain the old behavior, use `series.iloc[i:j]`. To get the future behavior, use `series.loc[i:j]`.\n",
      "  df_brazil.AverageTemperature[:500],\n"
     ]
    },
    {
     "data": {
      "image/png": "[encoded data removed]",
      "text/plain": [
       "<Figure size 1500x600 with 1 Axes>"
      ]
     },
     "metadata": {},
     "output_type": "display_data"
    }
   ],
   "source": [
    "# visualizing temperature by time (first 500 data)\n",
    "fig, ax = plt.subplots(figsize=(15,6))\n",
    "\n",
    "ax.plot(\n",
    "    df_brazil.dt[:500],\n",
    "    df_brazil.AverageTemperature[:500],\n",
    "    c='firebrick'\n",
    ")\n",
    "\n",
    "ax.set_xlabel('Years')\n",
    "\n",
    "ax.set_ylabel(\n",
    "    'Temperature',\n",
    "    rotation=0,\n",
    "    fontsize=16,\n",
    "    color='gray'\n",
    ")\n",
    "ax.yaxis.set_label_coords(-.08, 0.95)\n",
    "\n",
    "ax.set_title('Average temperature along the years in Brazil', fontsize=18)\n",
    "\n",
    "plt.show()"
   ]
  },
  {
   "cell_type": "code",
   "execution_count": 22,
   "id": "3678a079-426d-40ee-a14b-f49e490a8acd",
   "metadata": {},
   "outputs": [],
   "source": [
    "# filtering columns that will be\n",
    "# used to train the model\n",
    "df_final = df_brazil[['year', 'month', 'AverageTemperature']]"
   ]
  },
  {
   "cell_type": "code",
   "execution_count": 23,
   "id": "80ba50dd-1d06-4427-a20b-e8bb2c57e272",
   "metadata": {},
   "outputs": [],
   "source": [
    "# renaming temperature column name\n",
    "df_final.columns = df_final.columns.str.replace('AverageTemperature', 'temperature')"
   ]
  },
  {
   "cell_type": "code",
   "execution_count": 24,
   "id": "19ed2f5f-29c7-4674-b720-c87fc7362a47",
   "metadata": {},
   "outputs": [
    {
     "data": {
      "text/html": [
       "<div>\n",
       "<style scoped>\n",
       "    .dataframe tbody tr th:only-of-type {\n",
       "        vertical-align: middle;\n",
       "    }\n",
       "\n",
       "    .dataframe tbody tr th {\n",
       "        vertical-align: top;\n",
       "    }\n",
       "\n",
       "    .dataframe thead th {\n",
       "        text-align: right;\n",
       "    }\n",
       "</style>\n",
       "<table border=\"1\" class=\"dataframe\">\n",
       "  <thead>\n",
       "    <tr style=\"text-align: right;\">\n",
       "      <th></th>\n",
       "      <th>year</th>\n",
       "      <th>month</th>\n",
       "      <th>temperature</th>\n",
       "    </tr>\n",
       "  </thead>\n",
       "  <tbody>\n",
       "    <tr>\n",
       "      <th>77333</th>\n",
       "      <td>1850</td>\n",
       "      <td>8</td>\n",
       "      <td>24.176</td>\n",
       "    </tr>\n",
       "    <tr>\n",
       "      <th>77334</th>\n",
       "      <td>1850</td>\n",
       "      <td>9</td>\n",
       "      <td>24.551</td>\n",
       "    </tr>\n",
       "    <tr>\n",
       "      <th>77335</th>\n",
       "      <td>1850</td>\n",
       "      <td>10</td>\n",
       "      <td>24.468</td>\n",
       "    </tr>\n",
       "    <tr>\n",
       "      <th>77336</th>\n",
       "      <td>1850</td>\n",
       "      <td>11</td>\n",
       "      <td>24.604</td>\n",
       "    </tr>\n",
       "    <tr>\n",
       "      <th>77337</th>\n",
       "      <td>1850</td>\n",
       "      <td>12</td>\n",
       "      <td>24.643</td>\n",
       "    </tr>\n",
       "  </tbody>\n",
       "</table>\n",
       "</div>"
      ],
      "text/plain": [
       "       year  month  temperature\n",
       "77333  1850      8       24.176\n",
       "77334  1850      9       24.551\n",
       "77335  1850     10       24.468\n",
       "77336  1850     11       24.604\n",
       "77337  1850     12       24.643"
      ]
     },
     "execution_count": 24,
     "metadata": {},
     "output_type": "execute_result"
    }
   ],
   "source": [
    "df_final.head()"
   ]
  },
  {
   "cell_type": "code",
   "execution_count": 25,
   "id": "14485d2e-951f-4c3e-bd0d-0873e4d1101a",
   "metadata": {},
   "outputs": [
    {
     "data": {
      "text/html": [
       "<div>\n",
       "<style scoped>\n",
       "    .dataframe tbody tr th:only-of-type {\n",
       "        vertical-align: middle;\n",
       "    }\n",
       "\n",
       "    .dataframe tbody tr th {\n",
       "        vertical-align: top;\n",
       "    }\n",
       "\n",
       "    .dataframe thead th {\n",
       "        text-align: right;\n",
       "    }\n",
       "</style>\n",
       "<table border=\"1\" class=\"dataframe\">\n",
       "  <thead>\n",
       "    <tr style=\"text-align: right;\">\n",
       "      <th></th>\n",
       "      <th>year</th>\n",
       "      <th>month</th>\n",
       "      <th>temperature</th>\n",
       "    </tr>\n",
       "  </thead>\n",
       "  <tbody>\n",
       "    <tr>\n",
       "      <th>count</th>\n",
       "      <td>1957.000000</td>\n",
       "      <td>1957.000000</td>\n",
       "      <td>1957.000000</td>\n",
       "    </tr>\n",
       "    <tr>\n",
       "      <th>mean</th>\n",
       "      <td>1931.624936</td>\n",
       "      <td>6.500766</td>\n",
       "      <td>24.763883</td>\n",
       "    </tr>\n",
       "    <tr>\n",
       "      <th>std</th>\n",
       "      <td>47.091721</td>\n",
       "      <td>3.452219</td>\n",
       "      <td>0.955518</td>\n",
       "    </tr>\n",
       "    <tr>\n",
       "      <th>min</th>\n",
       "      <td>1850.000000</td>\n",
       "      <td>1.000000</td>\n",
       "      <td>21.797000</td>\n",
       "    </tr>\n",
       "    <tr>\n",
       "      <th>25%</th>\n",
       "      <td>1891.000000</td>\n",
       "      <td>4.000000</td>\n",
       "      <td>24.152000</td>\n",
       "    </tr>\n",
       "    <tr>\n",
       "      <th>50%</th>\n",
       "      <td>1932.000000</td>\n",
       "      <td>7.000000</td>\n",
       "      <td>24.910000</td>\n",
       "    </tr>\n",
       "    <tr>\n",
       "      <th>75%</th>\n",
       "      <td>1972.000000</td>\n",
       "      <td>9.000000</td>\n",
       "      <td>25.487000</td>\n",
       "    </tr>\n",
       "    <tr>\n",
       "      <th>max</th>\n",
       "      <td>2013.000000</td>\n",
       "      <td>12.000000</td>\n",
       "      <td>27.151000</td>\n",
       "    </tr>\n",
       "  </tbody>\n",
       "</table>\n",
       "</div>"
      ],
      "text/plain": [
       "              year        month  temperature\n",
       "count  1957.000000  1957.000000  1957.000000\n",
       "mean   1931.624936     6.500766    24.763883\n",
       "std      47.091721     3.452219     0.955518\n",
       "min    1850.000000     1.000000    21.797000\n",
       "25%    1891.000000     4.000000    24.152000\n",
       "50%    1932.000000     7.000000    24.910000\n",
       "75%    1972.000000     9.000000    25.487000\n",
       "max    2013.000000    12.000000    27.151000"
      ]
     },
     "execution_count": 25,
     "metadata": {},
     "output_type": "execute_result"
    }
   ],
   "source": [
    "df_final.describe()"
   ]
  },
  {
   "cell_type": "code",
   "execution_count": 27,
   "id": "66fa33b8-9cbe-43c1-bfcc-26725f0c5d66",
   "metadata": {},
   "outputs": [
    {
     "name": "stdout",
     "output_type": "stream",
     "text": [
      "<class 'pandas.core.frame.DataFrame'>\n",
      "Int64Index: 1957 entries, 77333 to 79289\n",
      "Data columns (total 3 columns):\n",
      " #   Column       Non-Null Count  Dtype  \n",
      "---  ------       --------------  -----  \n",
      " 0   year         1957 non-null   int64  \n",
      " 1   month        1957 non-null   int64  \n",
      " 2   temperature  1957 non-null   float64\n",
      "dtypes: float64(1), int64(2)\n",
      "memory usage: 125.7 KB\n"
     ]
    }
   ],
   "source": [
    "df_final.info()"
   ]
  },
  {
   "cell_type": "code",
   "execution_count": 26,
   "id": "2ba3175f-78d7-4f26-b3e7-9e0e4d5591ef",
   "metadata": {},
   "outputs": [],
   "source": [
    "# saving dataset into csv file\n",
    "df_final.to_csv('../datasets/avg_temp_in_brazil.csv')"
   ]
  },
  {
   "cell_type": "code",
   "execution_count": null,
   "id": "bf07d70b-9aeb-49db-81b2-dc0a46f4fa4f",
   "metadata": {},
   "outputs": [],
   "source": []
  }
 ],
 "metadata": {
  "kernelspec": {
   "display_name": "ds-env",
   "language": "python",
   "name": "ds-env"
  },
  "language_info": {
   "codemirror_mode": {
    "name": "ipython",
    "version": 3
   },
   "file_extension": ".py",
   "mimetype": "text/x-python",
   "name": "python",
   "nbconvert_exporter": "python",
   "pygments_lexer": "ipython3",
   "version": "3.10.8"
  }
 },
 "nbformat": 4,
 "nbformat_minor": 5
}
